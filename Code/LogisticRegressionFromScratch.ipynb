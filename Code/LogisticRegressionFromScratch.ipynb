{
  "cells": [
    {
      "cell_type": "markdown",
      "metadata": {
        "id": "NedSftAWekUx"
      },
      "source": [
        "\"We certify that the code and data in this assignment were generated independently, using only the tools and resources defined in the course and that we did not receive any external help, coaching or contributions during the production of this work.\""
      ]
    },
    {
      "cell_type": "markdown",
      "source": [
        ""
      ],
      "metadata": {
        "id": "P4sZYu2vsqIB"
      }
    },
    {
      "cell_type": "code",
      "execution_count": null,
      "metadata": {
        "id": "ECQ04H57ntq6"
      },
      "outputs": [],
      "source": [
        "import pandas as pd\n",
        "import numpy as np\n",
        "pd.set_option(\"display.max_rows\",None)\n",
        "pd.set_option(\"display.max_columns\",None)"
      ]
    },
    {
      "cell_type": "code",
      "execution_count": null,
      "metadata": {
        "id": "evmx6eSb26EL"
      },
      "outputs": [],
      "source": [
        "penguin_dataset = pd.read_csv(\"penguins.csv\")"
      ]
    },
    {
      "cell_type": "code",
      "execution_count": null,
      "metadata": {
        "colab": {
          "base_uri": "https://localhost:8080/"
        },
        "id": "n-1EWLlD2_rr",
        "outputId": "48447eeb-941a-41e1-9298-b45d7c37675a"
      },
      "outputs": [
        {
          "output_type": "execute_result",
          "data": {
            "text/plain": [
              "(344, 8)"
            ]
          },
          "metadata": {},
          "execution_count": 3
        }
      ],
      "source": [
        "penguin_dataset.shape"
      ]
    },
    {
      "cell_type": "code",
      "execution_count": null,
      "metadata": {
        "id": "TEmon4Z43B1v"
      },
      "outputs": [],
      "source": [
        "penguin_dataset.dropna(inplace=True)\n",
        "penguin_dataset.insert(0, \"Bias\", [1]*penguin_dataset.shape[0], True)\n",
        "penguin_dataset.drop(['year'], axis=1, inplace = True)\n",
        "penguin_dataset['index'] = range(0, len(penguin_dataset))"
      ]
    },
    {
      "cell_type": "code",
      "execution_count": null,
      "metadata": {
        "colab": {
          "base_uri": "https://localhost:8080/"
        },
        "id": "YHfxvzNf3DV_",
        "outputId": "07839037-61d4-4c46-8d18-6341dc0b47b6"
      },
      "outputs": [
        {
          "output_type": "execute_result",
          "data": {
            "text/plain": [
              "(333, 9)"
            ]
          },
          "metadata": {},
          "execution_count": 5
        }
      ],
      "source": [
        "penguin_dataset.shape"
      ]
    },
    {
      "cell_type": "code",
      "execution_count": null,
      "metadata": {
        "colab": {
          "base_uri": "https://localhost:8080/",
          "height": 300
        },
        "id": "3LfGCqaK3OF4",
        "outputId": "1e311ed9-6e11-4d63-c165-64bba19674f2"
      },
      "outputs": [
        {
          "output_type": "execute_result",
          "data": {
            "text/plain": [
              "        Bias  bill_length_mm  bill_depth_mm  flipper_length_mm  body_mass_g  \\\n",
              "count  333.0      333.000000     333.000000         333.000000   333.000000   \n",
              "mean     1.0       43.992793      17.164865         200.966967  4207.057057   \n",
              "std      0.0        5.468668       1.969235          14.015765   805.215802   \n",
              "min      1.0       32.100000      13.100000         172.000000  2700.000000   \n",
              "25%      1.0       39.500000      15.600000         190.000000  3550.000000   \n",
              "50%      1.0       44.500000      17.300000         197.000000  4050.000000   \n",
              "75%      1.0       48.600000      18.700000         213.000000  4775.000000   \n",
              "max      1.0       59.600000      21.500000         231.000000  6300.000000   \n",
              "\n",
              "            index  \n",
              "count  333.000000  \n",
              "mean   166.000000  \n",
              "std     96.273049  \n",
              "min      0.000000  \n",
              "25%     83.000000  \n",
              "50%    166.000000  \n",
              "75%    249.000000  \n",
              "max    332.000000  "
            ],
            "text/html": [
              "\n",
              "  <div id=\"df-4a2860c9-21a8-4e52-af21-58b209347e13\">\n",
              "    <div class=\"colab-df-container\">\n",
              "      <div>\n",
              "<style scoped>\n",
              "    .dataframe tbody tr th:only-of-type {\n",
              "        vertical-align: middle;\n",
              "    }\n",
              "\n",
              "    .dataframe tbody tr th {\n",
              "        vertical-align: top;\n",
              "    }\n",
              "\n",
              "    .dataframe thead th {\n",
              "        text-align: right;\n",
              "    }\n",
              "</style>\n",
              "<table border=\"1\" class=\"dataframe\">\n",
              "  <thead>\n",
              "    <tr style=\"text-align: right;\">\n",
              "      <th></th>\n",
              "      <th>Bias</th>\n",
              "      <th>bill_length_mm</th>\n",
              "      <th>bill_depth_mm</th>\n",
              "      <th>flipper_length_mm</th>\n",
              "      <th>body_mass_g</th>\n",
              "      <th>index</th>\n",
              "    </tr>\n",
              "  </thead>\n",
              "  <tbody>\n",
              "    <tr>\n",
              "      <th>count</th>\n",
              "      <td>333.0</td>\n",
              "      <td>333.000000</td>\n",
              "      <td>333.000000</td>\n",
              "      <td>333.000000</td>\n",
              "      <td>333.000000</td>\n",
              "      <td>333.000000</td>\n",
              "    </tr>\n",
              "    <tr>\n",
              "      <th>mean</th>\n",
              "      <td>1.0</td>\n",
              "      <td>43.992793</td>\n",
              "      <td>17.164865</td>\n",
              "      <td>200.966967</td>\n",
              "      <td>4207.057057</td>\n",
              "      <td>166.000000</td>\n",
              "    </tr>\n",
              "    <tr>\n",
              "      <th>std</th>\n",
              "      <td>0.0</td>\n",
              "      <td>5.468668</td>\n",
              "      <td>1.969235</td>\n",
              "      <td>14.015765</td>\n",
              "      <td>805.215802</td>\n",
              "      <td>96.273049</td>\n",
              "    </tr>\n",
              "    <tr>\n",
              "      <th>min</th>\n",
              "      <td>1.0</td>\n",
              "      <td>32.100000</td>\n",
              "      <td>13.100000</td>\n",
              "      <td>172.000000</td>\n",
              "      <td>2700.000000</td>\n",
              "      <td>0.000000</td>\n",
              "    </tr>\n",
              "    <tr>\n",
              "      <th>25%</th>\n",
              "      <td>1.0</td>\n",
              "      <td>39.500000</td>\n",
              "      <td>15.600000</td>\n",
              "      <td>190.000000</td>\n",
              "      <td>3550.000000</td>\n",
              "      <td>83.000000</td>\n",
              "    </tr>\n",
              "    <tr>\n",
              "      <th>50%</th>\n",
              "      <td>1.0</td>\n",
              "      <td>44.500000</td>\n",
              "      <td>17.300000</td>\n",
              "      <td>197.000000</td>\n",
              "      <td>4050.000000</td>\n",
              "      <td>166.000000</td>\n",
              "    </tr>\n",
              "    <tr>\n",
              "      <th>75%</th>\n",
              "      <td>1.0</td>\n",
              "      <td>48.600000</td>\n",
              "      <td>18.700000</td>\n",
              "      <td>213.000000</td>\n",
              "      <td>4775.000000</td>\n",
              "      <td>249.000000</td>\n",
              "    </tr>\n",
              "    <tr>\n",
              "      <th>max</th>\n",
              "      <td>1.0</td>\n",
              "      <td>59.600000</td>\n",
              "      <td>21.500000</td>\n",
              "      <td>231.000000</td>\n",
              "      <td>6300.000000</td>\n",
              "      <td>332.000000</td>\n",
              "    </tr>\n",
              "  </tbody>\n",
              "</table>\n",
              "</div>\n",
              "      <button class=\"colab-df-convert\" onclick=\"convertToInteractive('df-4a2860c9-21a8-4e52-af21-58b209347e13')\"\n",
              "              title=\"Convert this dataframe to an interactive table.\"\n",
              "              style=\"display:none;\">\n",
              "        \n",
              "  <svg xmlns=\"http://www.w3.org/2000/svg\" height=\"24px\"viewBox=\"0 0 24 24\"\n",
              "       width=\"24px\">\n",
              "    <path d=\"M0 0h24v24H0V0z\" fill=\"none\"/>\n",
              "    <path d=\"M18.56 5.44l.94 2.06.94-2.06 2.06-.94-2.06-.94-.94-2.06-.94 2.06-2.06.94zm-11 1L8.5 8.5l.94-2.06 2.06-.94-2.06-.94L8.5 2.5l-.94 2.06-2.06.94zm10 10l.94 2.06.94-2.06 2.06-.94-2.06-.94-.94-2.06-.94 2.06-2.06.94z\"/><path d=\"M17.41 7.96l-1.37-1.37c-.4-.4-.92-.59-1.43-.59-.52 0-1.04.2-1.43.59L10.3 9.45l-7.72 7.72c-.78.78-.78 2.05 0 2.83L4 21.41c.39.39.9.59 1.41.59.51 0 1.02-.2 1.41-.59l7.78-7.78 2.81-2.81c.8-.78.8-2.07 0-2.86zM5.41 20L4 18.59l7.72-7.72 1.47 1.35L5.41 20z\"/>\n",
              "  </svg>\n",
              "      </button>\n",
              "      \n",
              "  <style>\n",
              "    .colab-df-container {\n",
              "      display:flex;\n",
              "      flex-wrap:wrap;\n",
              "      gap: 12px;\n",
              "    }\n",
              "\n",
              "    .colab-df-convert {\n",
              "      background-color: #E8F0FE;\n",
              "      border: none;\n",
              "      border-radius: 50%;\n",
              "      cursor: pointer;\n",
              "      display: none;\n",
              "      fill: #1967D2;\n",
              "      height: 32px;\n",
              "      padding: 0 0 0 0;\n",
              "      width: 32px;\n",
              "    }\n",
              "\n",
              "    .colab-df-convert:hover {\n",
              "      background-color: #E2EBFA;\n",
              "      box-shadow: 0px 1px 2px rgba(60, 64, 67, 0.3), 0px 1px 3px 1px rgba(60, 64, 67, 0.15);\n",
              "      fill: #174EA6;\n",
              "    }\n",
              "\n",
              "    [theme=dark] .colab-df-convert {\n",
              "      background-color: #3B4455;\n",
              "      fill: #D2E3FC;\n",
              "    }\n",
              "\n",
              "    [theme=dark] .colab-df-convert:hover {\n",
              "      background-color: #434B5C;\n",
              "      box-shadow: 0px 1px 3px 1px rgba(0, 0, 0, 0.15);\n",
              "      filter: drop-shadow(0px 1px 2px rgba(0, 0, 0, 0.3));\n",
              "      fill: #FFFFFF;\n",
              "    }\n",
              "  </style>\n",
              "\n",
              "      <script>\n",
              "        const buttonEl =\n",
              "          document.querySelector('#df-4a2860c9-21a8-4e52-af21-58b209347e13 button.colab-df-convert');\n",
              "        buttonEl.style.display =\n",
              "          google.colab.kernel.accessAllowed ? 'block' : 'none';\n",
              "\n",
              "        async function convertToInteractive(key) {\n",
              "          const element = document.querySelector('#df-4a2860c9-21a8-4e52-af21-58b209347e13');\n",
              "          const dataTable =\n",
              "            await google.colab.kernel.invokeFunction('convertToInteractive',\n",
              "                                                     [key], {});\n",
              "          if (!dataTable) return;\n",
              "\n",
              "          const docLinkHtml = 'Like what you see? Visit the ' +\n",
              "            '<a target=\"_blank\" href=https://colab.research.google.com/notebooks/data_table.ipynb>data table notebook</a>'\n",
              "            + ' to learn more about interactive tables.';\n",
              "          element.innerHTML = '';\n",
              "          dataTable['output_type'] = 'display_data';\n",
              "          await google.colab.output.renderOutput(dataTable, element);\n",
              "          const docLink = document.createElement('div');\n",
              "          docLink.innerHTML = docLinkHtml;\n",
              "          element.appendChild(docLink);\n",
              "        }\n",
              "      </script>\n",
              "    </div>\n",
              "  </div>\n",
              "  "
            ]
          },
          "metadata": {},
          "execution_count": 6
        }
      ],
      "source": [
        "penguin_dataset.describe()"
      ]
    },
    {
      "cell_type": "code",
      "execution_count": null,
      "metadata": {
        "colab": {
          "base_uri": "https://localhost:8080/",
          "height": 237
        },
        "id": "v1O3rjl03QG9",
        "outputId": "005c6e92-8289-4600-83e2-0e9a2c8a9cd1"
      },
      "outputs": [
        {
          "output_type": "execute_result",
          "data": {
            "text/plain": [
              "   Bias species     island  bill_length_mm  bill_depth_mm  flipper_length_mm  \\\n",
              "0     1  Adelie  Torgersen            39.1           18.7              181.0   \n",
              "1     1  Adelie  Torgersen            39.5           17.4              186.0   \n",
              "2     1  Adelie  Torgersen            40.3           18.0              195.0   \n",
              "4     1  Adelie  Torgersen            36.7           19.3              193.0   \n",
              "5     1  Adelie  Torgersen            39.3           20.6              190.0   \n",
              "6     1  Adelie  Torgersen            38.9           17.8              181.0   \n",
              "\n",
              "   body_mass_g     sex  index  \n",
              "0       3750.0    male      0  \n",
              "1       3800.0  female      1  \n",
              "2       3250.0  female      2  \n",
              "4       3450.0  female      3  \n",
              "5       3650.0    male      4  \n",
              "6       3625.0  female      5  "
            ],
            "text/html": [
              "\n",
              "  <div id=\"df-d4b5a795-0a72-45fc-89a5-abc549d24415\">\n",
              "    <div class=\"colab-df-container\">\n",
              "      <div>\n",
              "<style scoped>\n",
              "    .dataframe tbody tr th:only-of-type {\n",
              "        vertical-align: middle;\n",
              "    }\n",
              "\n",
              "    .dataframe tbody tr th {\n",
              "        vertical-align: top;\n",
              "    }\n",
              "\n",
              "    .dataframe thead th {\n",
              "        text-align: right;\n",
              "    }\n",
              "</style>\n",
              "<table border=\"1\" class=\"dataframe\">\n",
              "  <thead>\n",
              "    <tr style=\"text-align: right;\">\n",
              "      <th></th>\n",
              "      <th>Bias</th>\n",
              "      <th>species</th>\n",
              "      <th>island</th>\n",
              "      <th>bill_length_mm</th>\n",
              "      <th>bill_depth_mm</th>\n",
              "      <th>flipper_length_mm</th>\n",
              "      <th>body_mass_g</th>\n",
              "      <th>sex</th>\n",
              "      <th>index</th>\n",
              "    </tr>\n",
              "  </thead>\n",
              "  <tbody>\n",
              "    <tr>\n",
              "      <th>0</th>\n",
              "      <td>1</td>\n",
              "      <td>Adelie</td>\n",
              "      <td>Torgersen</td>\n",
              "      <td>39.1</td>\n",
              "      <td>18.7</td>\n",
              "      <td>181.0</td>\n",
              "      <td>3750.0</td>\n",
              "      <td>male</td>\n",
              "      <td>0</td>\n",
              "    </tr>\n",
              "    <tr>\n",
              "      <th>1</th>\n",
              "      <td>1</td>\n",
              "      <td>Adelie</td>\n",
              "      <td>Torgersen</td>\n",
              "      <td>39.5</td>\n",
              "      <td>17.4</td>\n",
              "      <td>186.0</td>\n",
              "      <td>3800.0</td>\n",
              "      <td>female</td>\n",
              "      <td>1</td>\n",
              "    </tr>\n",
              "    <tr>\n",
              "      <th>2</th>\n",
              "      <td>1</td>\n",
              "      <td>Adelie</td>\n",
              "      <td>Torgersen</td>\n",
              "      <td>40.3</td>\n",
              "      <td>18.0</td>\n",
              "      <td>195.0</td>\n",
              "      <td>3250.0</td>\n",
              "      <td>female</td>\n",
              "      <td>2</td>\n",
              "    </tr>\n",
              "    <tr>\n",
              "      <th>4</th>\n",
              "      <td>1</td>\n",
              "      <td>Adelie</td>\n",
              "      <td>Torgersen</td>\n",
              "      <td>36.7</td>\n",
              "      <td>19.3</td>\n",
              "      <td>193.0</td>\n",
              "      <td>3450.0</td>\n",
              "      <td>female</td>\n",
              "      <td>3</td>\n",
              "    </tr>\n",
              "    <tr>\n",
              "      <th>5</th>\n",
              "      <td>1</td>\n",
              "      <td>Adelie</td>\n",
              "      <td>Torgersen</td>\n",
              "      <td>39.3</td>\n",
              "      <td>20.6</td>\n",
              "      <td>190.0</td>\n",
              "      <td>3650.0</td>\n",
              "      <td>male</td>\n",
              "      <td>4</td>\n",
              "    </tr>\n",
              "    <tr>\n",
              "      <th>6</th>\n",
              "      <td>1</td>\n",
              "      <td>Adelie</td>\n",
              "      <td>Torgersen</td>\n",
              "      <td>38.9</td>\n",
              "      <td>17.8</td>\n",
              "      <td>181.0</td>\n",
              "      <td>3625.0</td>\n",
              "      <td>female</td>\n",
              "      <td>5</td>\n",
              "    </tr>\n",
              "  </tbody>\n",
              "</table>\n",
              "</div>\n",
              "      <button class=\"colab-df-convert\" onclick=\"convertToInteractive('df-d4b5a795-0a72-45fc-89a5-abc549d24415')\"\n",
              "              title=\"Convert this dataframe to an interactive table.\"\n",
              "              style=\"display:none;\">\n",
              "        \n",
              "  <svg xmlns=\"http://www.w3.org/2000/svg\" height=\"24px\"viewBox=\"0 0 24 24\"\n",
              "       width=\"24px\">\n",
              "    <path d=\"M0 0h24v24H0V0z\" fill=\"none\"/>\n",
              "    <path d=\"M18.56 5.44l.94 2.06.94-2.06 2.06-.94-2.06-.94-.94-2.06-.94 2.06-2.06.94zm-11 1L8.5 8.5l.94-2.06 2.06-.94-2.06-.94L8.5 2.5l-.94 2.06-2.06.94zm10 10l.94 2.06.94-2.06 2.06-.94-2.06-.94-.94-2.06-.94 2.06-2.06.94z\"/><path d=\"M17.41 7.96l-1.37-1.37c-.4-.4-.92-.59-1.43-.59-.52 0-1.04.2-1.43.59L10.3 9.45l-7.72 7.72c-.78.78-.78 2.05 0 2.83L4 21.41c.39.39.9.59 1.41.59.51 0 1.02-.2 1.41-.59l7.78-7.78 2.81-2.81c.8-.78.8-2.07 0-2.86zM5.41 20L4 18.59l7.72-7.72 1.47 1.35L5.41 20z\"/>\n",
              "  </svg>\n",
              "      </button>\n",
              "      \n",
              "  <style>\n",
              "    .colab-df-container {\n",
              "      display:flex;\n",
              "      flex-wrap:wrap;\n",
              "      gap: 12px;\n",
              "    }\n",
              "\n",
              "    .colab-df-convert {\n",
              "      background-color: #E8F0FE;\n",
              "      border: none;\n",
              "      border-radius: 50%;\n",
              "      cursor: pointer;\n",
              "      display: none;\n",
              "      fill: #1967D2;\n",
              "      height: 32px;\n",
              "      padding: 0 0 0 0;\n",
              "      width: 32px;\n",
              "    }\n",
              "\n",
              "    .colab-df-convert:hover {\n",
              "      background-color: #E2EBFA;\n",
              "      box-shadow: 0px 1px 2px rgba(60, 64, 67, 0.3), 0px 1px 3px 1px rgba(60, 64, 67, 0.15);\n",
              "      fill: #174EA6;\n",
              "    }\n",
              "\n",
              "    [theme=dark] .colab-df-convert {\n",
              "      background-color: #3B4455;\n",
              "      fill: #D2E3FC;\n",
              "    }\n",
              "\n",
              "    [theme=dark] .colab-df-convert:hover {\n",
              "      background-color: #434B5C;\n",
              "      box-shadow: 0px 1px 3px 1px rgba(0, 0, 0, 0.15);\n",
              "      filter: drop-shadow(0px 1px 2px rgba(0, 0, 0, 0.3));\n",
              "      fill: #FFFFFF;\n",
              "    }\n",
              "  </style>\n",
              "\n",
              "      <script>\n",
              "        const buttonEl =\n",
              "          document.querySelector('#df-d4b5a795-0a72-45fc-89a5-abc549d24415 button.colab-df-convert');\n",
              "        buttonEl.style.display =\n",
              "          google.colab.kernel.accessAllowed ? 'block' : 'none';\n",
              "\n",
              "        async function convertToInteractive(key) {\n",
              "          const element = document.querySelector('#df-d4b5a795-0a72-45fc-89a5-abc549d24415');\n",
              "          const dataTable =\n",
              "            await google.colab.kernel.invokeFunction('convertToInteractive',\n",
              "                                                     [key], {});\n",
              "          if (!dataTable) return;\n",
              "\n",
              "          const docLinkHtml = 'Like what you see? Visit the ' +\n",
              "            '<a target=\"_blank\" href=https://colab.research.google.com/notebooks/data_table.ipynb>data table notebook</a>'\n",
              "            + ' to learn more about interactive tables.';\n",
              "          element.innerHTML = '';\n",
              "          dataTable['output_type'] = 'display_data';\n",
              "          await google.colab.output.renderOutput(dataTable, element);\n",
              "          const docLink = document.createElement('div');\n",
              "          docLink.innerHTML = docLinkHtml;\n",
              "          element.appendChild(docLink);\n",
              "        }\n",
              "      </script>\n",
              "    </div>\n",
              "  </div>\n",
              "  "
            ]
          },
          "metadata": {},
          "execution_count": 7
        }
      ],
      "source": [
        "penguin_dataset.head(6)"
      ]
    },
    {
      "cell_type": "code",
      "execution_count": null,
      "metadata": {
        "colab": {
          "base_uri": "https://localhost:8080/"
        },
        "id": "TevloakW3dJ8",
        "outputId": "33f1d037-8787-4e3b-c27d-94dfca73da25"
      },
      "outputs": [
        {
          "output_type": "execute_result",
          "data": {
            "text/plain": [
              "Index(['Bias', 'species', 'island', 'bill_length_mm', 'bill_depth_mm',\n",
              "       'flipper_length_mm', 'body_mass_g', 'sex', 'index'],\n",
              "      dtype='object')"
            ]
          },
          "metadata": {},
          "execution_count": 8
        }
      ],
      "source": [
        "penguin_dataset.columns"
      ]
    },
    {
      "cell_type": "code",
      "source": [
        "c1 = pd.get_dummies(penguin_dataset.species, prefix = \"specie\")\n",
        "c1['index'] = range(0, len(penguin_dataset))\n",
        "c2 = pd.get_dummies(penguin_dataset.island, prefix = \"island\")\n",
        "c2['index'] = range(0, len(penguin_dataset))\n",
        "penguin_dataset = penguin_dataset.merge(c1, on = 'index')\n",
        "penguin_dataset = penguin_dataset.merge(c2, on = 'index')\n",
        "penguin_dataset.drop('species', 1, inplace = True)\n",
        "penguin_dataset.drop('island', 1, inplace = True)\n",
        "penguin_dataset = penguin_dataset[[\"index\", \"Bias\", \"bill_length_mm\", \"bill_depth_mm\", \"flipper_length_mm\", \"body_mass_g\", \"specie_Adelie\", \"specie_Chinstrap\", \"specie_Gentoo\", \"island_Biscoe\", \"island_Dream\", \"island_Torgersen\", \"sex\"]]"
      ],
      "metadata": {
        "colab": {
          "base_uri": "https://localhost:8080/"
        },
        "id": "x0HKPu0wrxKb",
        "outputId": "039b7f54-a529-4ea2-868a-701bb46d5a4d"
      },
      "execution_count": null,
      "outputs": [
        {
          "output_type": "stream",
          "name": "stderr",
          "text": [
            "/usr/local/lib/python3.7/dist-packages/ipykernel_launcher.py:7: FutureWarning: In a future version of pandas all arguments of DataFrame.drop except for the argument 'labels' will be keyword-only\n",
            "  import sys\n",
            "/usr/local/lib/python3.7/dist-packages/ipykernel_launcher.py:8: FutureWarning: In a future version of pandas all arguments of DataFrame.drop except for the argument 'labels' will be keyword-only\n",
            "  \n"
          ]
        }
      ]
    },
    {
      "cell_type": "code",
      "execution_count": null,
      "metadata": {
        "id": "a_LOFGMi3fdu"
      },
      "outputs": [],
      "source": [
        "penguin_dataset['sex'] = penguin_dataset['sex'].astype('category')\n",
        "categorical_columns = penguin_dataset.select_dtypes(['category']).columns\n",
        "penguin_dataset[categorical_columns] = penguin_dataset[categorical_columns].apply(lambda x: x.cat.codes)\n",
        "penguin_dataset = penguin_dataset"
      ]
    },
    {
      "cell_type": "markdown",
      "metadata": {
        "id": "oaF8QEnp6Lyg"
      },
      "source": [
        "4. Normalize non-categorical features (culmen_length_mm, culmen_depth_mm, flipper_length_mm, body_mass_g)\n",
        "\n",
        "\n",
        "\n",
        "*   a. Find the min and max values for each columnt item\n",
        "*   b. Rescale dataset columns to the range from 0 to 1\n",
        "\n",
        "\n",
        "\n",
        "\n",
        "\n"
      ]
    },
    {
      "cell_type": "code",
      "execution_count": null,
      "metadata": {
        "id": "xqGaZPhJ3j1y"
      },
      "outputs": [],
      "source": [
        "def Normalize(dataframe):\n",
        "\n",
        "  temp_data = dataframe.copy()\n",
        "  feature_set = {'bill_length_mm','bill_depth_mm','flipper_length_mm', 'body_mass_g'}\n",
        "  for feature in dataframe.columns:\n",
        "\n",
        "    if feature in feature_set:\n",
        "      minimum = dataframe[feature].min()\n",
        "      maximum = dataframe[feature].max()\n",
        "\n",
        "      temp_data[feature] = (dataframe[feature]-minimum) / (maximum - minimum)\n",
        "\n",
        "  return temp_data\n",
        "\n",
        "penguin_dataset = Normalize(penguin_dataset)"
      ]
    },
    {
      "cell_type": "code",
      "execution_count": null,
      "metadata": {
        "id": "k081pGe8LwuG"
      },
      "outputs": [],
      "source": [
        "penguin_dataset = penguin_dataset.sample(frac=1)"
      ]
    },
    {
      "cell_type": "code",
      "execution_count": null,
      "metadata": {
        "colab": {
          "base_uri": "https://localhost:8080/",
          "height": 206
        },
        "id": "-b9abtTC8V3Y",
        "outputId": "39e8c42d-d611-4f61-f02a-b2a7907e5920"
      },
      "outputs": [
        {
          "output_type": "execute_result",
          "data": {
            "text/plain": [
              "     Bias  bill_length_mm  bill_depth_mm  flipper_length_mm  body_mass_g  \\\n",
              "7       1        0.327273       0.535714           0.169492     0.138889   \n",
              "218     1        0.520000       0.226190           0.745763     0.555556   \n",
              "66      1        0.272727       0.488095           0.406780     0.236111   \n",
              "173     1        0.585455       0.142857           0.644068     0.527778   \n",
              "55      1        0.334545       0.952381           0.389831     0.472222   \n",
              "\n",
              "     specie_Adelie  specie_Chinstrap  specie_Gentoo  island_Biscoe  \\\n",
              "7                1                 0              0              0   \n",
              "218              0                 0              1              1   \n",
              "66               1                 0              0              0   \n",
              "173              0                 0              1              1   \n",
              "55               1                 0              0              1   \n",
              "\n",
              "     island_Dream  island_Torgersen  sex  \n",
              "7               0                 1    0  \n",
              "218             0                 0    0  \n",
              "66              0                 1    0  \n",
              "173             0                 0    0  \n",
              "55              0                 0    1  "
            ],
            "text/html": [
              "\n",
              "  <div id=\"df-4fac668a-4f65-461d-a324-41d6b9bb46ed\">\n",
              "    <div class=\"colab-df-container\">\n",
              "      <div>\n",
              "<style scoped>\n",
              "    .dataframe tbody tr th:only-of-type {\n",
              "        vertical-align: middle;\n",
              "    }\n",
              "\n",
              "    .dataframe tbody tr th {\n",
              "        vertical-align: top;\n",
              "    }\n",
              "\n",
              "    .dataframe thead th {\n",
              "        text-align: right;\n",
              "    }\n",
              "</style>\n",
              "<table border=\"1\" class=\"dataframe\">\n",
              "  <thead>\n",
              "    <tr style=\"text-align: right;\">\n",
              "      <th></th>\n",
              "      <th>Bias</th>\n",
              "      <th>bill_length_mm</th>\n",
              "      <th>bill_depth_mm</th>\n",
              "      <th>flipper_length_mm</th>\n",
              "      <th>body_mass_g</th>\n",
              "      <th>specie_Adelie</th>\n",
              "      <th>specie_Chinstrap</th>\n",
              "      <th>specie_Gentoo</th>\n",
              "      <th>island_Biscoe</th>\n",
              "      <th>island_Dream</th>\n",
              "      <th>island_Torgersen</th>\n",
              "      <th>sex</th>\n",
              "    </tr>\n",
              "  </thead>\n",
              "  <tbody>\n",
              "    <tr>\n",
              "      <th>7</th>\n",
              "      <td>1</td>\n",
              "      <td>0.327273</td>\n",
              "      <td>0.535714</td>\n",
              "      <td>0.169492</td>\n",
              "      <td>0.138889</td>\n",
              "      <td>1</td>\n",
              "      <td>0</td>\n",
              "      <td>0</td>\n",
              "      <td>0</td>\n",
              "      <td>0</td>\n",
              "      <td>1</td>\n",
              "      <td>0</td>\n",
              "    </tr>\n",
              "    <tr>\n",
              "      <th>218</th>\n",
              "      <td>1</td>\n",
              "      <td>0.520000</td>\n",
              "      <td>0.226190</td>\n",
              "      <td>0.745763</td>\n",
              "      <td>0.555556</td>\n",
              "      <td>0</td>\n",
              "      <td>0</td>\n",
              "      <td>1</td>\n",
              "      <td>1</td>\n",
              "      <td>0</td>\n",
              "      <td>0</td>\n",
              "      <td>0</td>\n",
              "    </tr>\n",
              "    <tr>\n",
              "      <th>66</th>\n",
              "      <td>1</td>\n",
              "      <td>0.272727</td>\n",
              "      <td>0.488095</td>\n",
              "      <td>0.406780</td>\n",
              "      <td>0.236111</td>\n",
              "      <td>1</td>\n",
              "      <td>0</td>\n",
              "      <td>0</td>\n",
              "      <td>0</td>\n",
              "      <td>0</td>\n",
              "      <td>1</td>\n",
              "      <td>0</td>\n",
              "    </tr>\n",
              "    <tr>\n",
              "      <th>173</th>\n",
              "      <td>1</td>\n",
              "      <td>0.585455</td>\n",
              "      <td>0.142857</td>\n",
              "      <td>0.644068</td>\n",
              "      <td>0.527778</td>\n",
              "      <td>0</td>\n",
              "      <td>0</td>\n",
              "      <td>1</td>\n",
              "      <td>1</td>\n",
              "      <td>0</td>\n",
              "      <td>0</td>\n",
              "      <td>0</td>\n",
              "    </tr>\n",
              "    <tr>\n",
              "      <th>55</th>\n",
              "      <td>1</td>\n",
              "      <td>0.334545</td>\n",
              "      <td>0.952381</td>\n",
              "      <td>0.389831</td>\n",
              "      <td>0.472222</td>\n",
              "      <td>1</td>\n",
              "      <td>0</td>\n",
              "      <td>0</td>\n",
              "      <td>1</td>\n",
              "      <td>0</td>\n",
              "      <td>0</td>\n",
              "      <td>1</td>\n",
              "    </tr>\n",
              "  </tbody>\n",
              "</table>\n",
              "</div>\n",
              "      <button class=\"colab-df-convert\" onclick=\"convertToInteractive('df-4fac668a-4f65-461d-a324-41d6b9bb46ed')\"\n",
              "              title=\"Convert this dataframe to an interactive table.\"\n",
              "              style=\"display:none;\">\n",
              "        \n",
              "  <svg xmlns=\"http://www.w3.org/2000/svg\" height=\"24px\"viewBox=\"0 0 24 24\"\n",
              "       width=\"24px\">\n",
              "    <path d=\"M0 0h24v24H0V0z\" fill=\"none\"/>\n",
              "    <path d=\"M18.56 5.44l.94 2.06.94-2.06 2.06-.94-2.06-.94-.94-2.06-.94 2.06-2.06.94zm-11 1L8.5 8.5l.94-2.06 2.06-.94-2.06-.94L8.5 2.5l-.94 2.06-2.06.94zm10 10l.94 2.06.94-2.06 2.06-.94-2.06-.94-.94-2.06-.94 2.06-2.06.94z\"/><path d=\"M17.41 7.96l-1.37-1.37c-.4-.4-.92-.59-1.43-.59-.52 0-1.04.2-1.43.59L10.3 9.45l-7.72 7.72c-.78.78-.78 2.05 0 2.83L4 21.41c.39.39.9.59 1.41.59.51 0 1.02-.2 1.41-.59l7.78-7.78 2.81-2.81c.8-.78.8-2.07 0-2.86zM5.41 20L4 18.59l7.72-7.72 1.47 1.35L5.41 20z\"/>\n",
              "  </svg>\n",
              "      </button>\n",
              "      \n",
              "  <style>\n",
              "    .colab-df-container {\n",
              "      display:flex;\n",
              "      flex-wrap:wrap;\n",
              "      gap: 12px;\n",
              "    }\n",
              "\n",
              "    .colab-df-convert {\n",
              "      background-color: #E8F0FE;\n",
              "      border: none;\n",
              "      border-radius: 50%;\n",
              "      cursor: pointer;\n",
              "      display: none;\n",
              "      fill: #1967D2;\n",
              "      height: 32px;\n",
              "      padding: 0 0 0 0;\n",
              "      width: 32px;\n",
              "    }\n",
              "\n",
              "    .colab-df-convert:hover {\n",
              "      background-color: #E2EBFA;\n",
              "      box-shadow: 0px 1px 2px rgba(60, 64, 67, 0.3), 0px 1px 3px 1px rgba(60, 64, 67, 0.15);\n",
              "      fill: #174EA6;\n",
              "    }\n",
              "\n",
              "    [theme=dark] .colab-df-convert {\n",
              "      background-color: #3B4455;\n",
              "      fill: #D2E3FC;\n",
              "    }\n",
              "\n",
              "    [theme=dark] .colab-df-convert:hover {\n",
              "      background-color: #434B5C;\n",
              "      box-shadow: 0px 1px 3px 1px rgba(0, 0, 0, 0.15);\n",
              "      filter: drop-shadow(0px 1px 2px rgba(0, 0, 0, 0.3));\n",
              "      fill: #FFFFFF;\n",
              "    }\n",
              "  </style>\n",
              "\n",
              "      <script>\n",
              "        const buttonEl =\n",
              "          document.querySelector('#df-4fac668a-4f65-461d-a324-41d6b9bb46ed button.colab-df-convert');\n",
              "        buttonEl.style.display =\n",
              "          google.colab.kernel.accessAllowed ? 'block' : 'none';\n",
              "\n",
              "        async function convertToInteractive(key) {\n",
              "          const element = document.querySelector('#df-4fac668a-4f65-461d-a324-41d6b9bb46ed');\n",
              "          const dataTable =\n",
              "            await google.colab.kernel.invokeFunction('convertToInteractive',\n",
              "                                                     [key], {});\n",
              "          if (!dataTable) return;\n",
              "\n",
              "          const docLinkHtml = 'Like what you see? Visit the ' +\n",
              "            '<a target=\"_blank\" href=https://colab.research.google.com/notebooks/data_table.ipynb>data table notebook</a>'\n",
              "            + ' to learn more about interactive tables.';\n",
              "          element.innerHTML = '';\n",
              "          dataTable['output_type'] = 'display_data';\n",
              "          await google.colab.output.renderOutput(dataTable, element);\n",
              "          const docLink = document.createElement('div');\n",
              "          docLink.innerHTML = docLinkHtml;\n",
              "          element.appendChild(docLink);\n",
              "        }\n",
              "      </script>\n",
              "    </div>\n",
              "  </div>\n",
              "  "
            ]
          },
          "metadata": {},
          "execution_count": 13
        }
      ],
      "source": [
        "penguin_dataset.drop(['index'], axis=1, inplace = True)\n",
        "penguin_dataset.head()"
      ]
    },
    {
      "cell_type": "markdown",
      "metadata": {
        "id": "g7GM2Ibl-j2s"
      },
      "source": [
        "5. Choose your target Y. For this dataset, we have selected gender as our target\n",
        "\n",
        "\n",
        "*   a. We have used binary classifier to predict which gender a penguin belongs to (female or male). In this case column sex can be used as Y (target)\n"
      ]
    },
    {
      "cell_type": "markdown",
      "metadata": {
        "id": "Y03cSKCFAbB0"
      },
      "source": [
        "6. Create the data matrices for X (input) and Y (target) in a shape X = 𝑁 x 𝑑 and Y = 𝑁 x 1, where 𝑁 is a number of data samples and 𝑑 is a number of features."
      ]
    },
    {
      "cell_type": "code",
      "execution_count": null,
      "metadata": {
        "id": "vgHBJudu889X"
      },
      "outputs": [],
      "source": [
        "X = penguin_dataset.iloc[:,:-1].values   # get all rows  and all columns except last column\n",
        "y = penguin_dataset.iloc[:,-1].values"
      ]
    },
    {
      "cell_type": "code",
      "execution_count": null,
      "metadata": {
        "id": "NM_MibMCBXz2"
      },
      "outputs": [],
      "source": [
        "def divide_80_20(dataset):\n",
        "\n",
        "  rows = dataset.shape[0]\n",
        "  \n",
        "\n",
        "  percent_80 = int(0.8*rows)\n",
        "  percent_20 = int(0.2*rows)\n",
        "\n",
        "  train = dataset[:percent_80]\n",
        "  test = dataset[percent_80+1:]\n",
        "\n",
        "  #train = temp.head(percent_80)\n",
        "  #test = temp.tail(percent_20)\n",
        "\n",
        "\n",
        "  return train, test\n",
        "\n",
        "#def split_train_test(data, p) :\n",
        "# return data.head(int(p * data.shape[0])), data.tail(int((1 - p) * data.shape[0]))\n",
        "\n",
        "X_train, X_test = divide_80_20(X)\n",
        "y_train, y_test = divide_80_20(y)\n"
      ]
    },
    {
      "cell_type": "code",
      "execution_count": null,
      "metadata": {
        "colab": {
          "base_uri": "https://localhost:8080/"
        },
        "id": "x62jBR9Whekd",
        "outputId": "749af336-b49a-47d0-c5dd-d6c7bfb00ca6"
      },
      "outputs": [
        {
          "output_type": "stream",
          "name": "stdout",
          "text": [
            "(266, 11)\n",
            "(66, 11)\n",
            "(266,)\n",
            "(66,)\n"
          ]
        }
      ],
      "source": [
        "print(X_train.shape)\n",
        "print(X_test.shape)\n",
        "print(y_train.shape)\n",
        "print(y_test.shape)"
      ]
    },
    {
      "cell_type": "markdown",
      "metadata": {
        "id": "nera1bqjh6bx"
      },
      "source": [
        ""
      ]
    },
    {
      "cell_type": "code",
      "execution_count": null,
      "metadata": {
        "id": "0a0R6f9LcK1_"
      },
      "outputs": [],
      "source": [
        "#N, d = X.shape\n",
        "#weights = np.random.uniform(0,1 ,(d,1))\n",
        "#weights\n",
        "#learning_rate=1e-6  # accuracy  60.60\n",
        "#iterations=100000\n",
        "#learning_rate= 0.0025  # accuracy 87.87\n",
        "#iterations= 100000\n",
        "\n",
        "learning_rate = 0.01 # accuracy 90.90\n",
        "iterations = 100000\n",
        "#N, d = X.shape\n",
        "#weights = np.zeros((d,1))\n",
        "#weights = np.random.uniform(0,1 ,(d,1))\n",
        "#bias = 1\n"
      ]
    },
    {
      "cell_type": "code",
      "execution_count": null,
      "metadata": {
        "id": "RNh3gNInh6C9"
      },
      "outputs": [],
      "source": [
        "\n",
        "class LogitRegression():\n",
        "\n",
        "\n",
        "  def __init__(self, learning_rate, iterations):         #inititalisation\n",
        "    self.learning_rate = learning_rate\n",
        "    self.iterations = iterations\n",
        "\n",
        "  def sigmoid(self,z):                                         # sigmoid\n",
        "\n",
        "    sig = 1.0/(1 + np.exp(-z))\n",
        "    return sig\n",
        "\n",
        "\n",
        "  def cost(self,y, y_pred):               \n",
        "\n",
        "    cost = -np.mean(y*(np.log(y_pred)) - (1-y)*np.log(1-y_pred))\n",
        "    return cost\n",
        "\n",
        "  \n",
        "  def gradient_descent(self,X, y, y_pred):\n",
        "\n",
        "    rows, col = X.shape\n",
        "    delta = y_pred - y\n",
        "    dW = (1/rows) * np.dot(X.T , delta)\n",
        "\n",
        "    return dW\n",
        "\n",
        "\n",
        "  def predict(self,X,weight):\n",
        "    \n",
        "    result = np.dot(X,weight) \n",
        "    y_hat = self.sigmoid(result)\n",
        "    \n",
        "\n",
        "    output_list =[]   \n",
        "    \n",
        "\n",
        "    for element in y_hat:\n",
        "      if element > 0.5:\n",
        "        output_list.append(1)\n",
        "      else:\n",
        "        output_list.append(0)\n",
        "\n",
        "    return np.array(output_list)\n",
        "\n",
        "\n",
        "  def fit(self, x, y):\n",
        "  \n",
        " \n",
        "    rows, cols = x.shape\n",
        "    \n",
        "  \n",
        "    N, d = x.shape\n",
        "    #weights = np.zeros((d,1))\n",
        "    weights = np.random.uniform(0,1 ,(d,1))\n",
        "    print(weights.shape)\n",
        "   \n",
        "    y = y.reshape(rows,1)\n",
        "    \n",
        "    loss = []\n",
        "    \n",
        "   \n",
        "    for iteration in range(iterations):\n",
        "      \n",
        "        #for i in range(rows):\n",
        "\n",
        "       \n",
        "        result = np.dot(x,weights)\n",
        "        y_hat = self.sigmoid(result)\n",
        "        \n",
        "        dw  = self.gradient_descent(x, y, y_hat)\n",
        "        \n",
        "        weights -= self.learning_rate *dw\n",
        "\n",
        "        l = self.cost(y, self.sigmoid(np.dot(x,weights)))\n",
        "        loss.append(l)\n",
        "        \n",
        "    return weights , loss\n",
        "\n",
        "\n",
        "\n",
        "\n",
        "  def accuracy(self, y_test, y_pred):\n",
        "\n",
        "    positives = 0\n",
        "\n",
        "    for item1, item2 in zip(y_test,y_pred):\n",
        "\n",
        "      if item1 == item2:\n",
        "        positives  +=1\n",
        "\n",
        "    accuracy = positives / len(y_test)\n",
        "\n",
        "    return accuracy\n",
        "\n",
        "\n",
        "\n",
        "\n",
        "  \n",
        "\n",
        "  \n",
        "  \n"
      ]
    },
    {
      "cell_type": "code",
      "execution_count": null,
      "metadata": {
        "colab": {
          "base_uri": "https://localhost:8080/"
        },
        "id": "6geI2Y2lheSZ",
        "outputId": "d07250fb-0171-416c-fd7b-99c8f7812d8e"
      },
      "outputs": [
        {
          "output_type": "stream",
          "name": "stdout",
          "text": [
            "0.01\n",
            "100000\n"
          ]
        }
      ],
      "source": [
        "model = LogitRegression(learning_rate, iterations)\n",
        "print(model.learning_rate)\n",
        "print(model.iterations)\n"
      ]
    },
    {
      "cell_type": "code",
      "execution_count": null,
      "metadata": {
        "colab": {
          "base_uri": "https://localhost:8080/"
        },
        "id": "lC3gfnJ5iQSr",
        "outputId": "4a8cd9a0-b9a7-4df5-ab94-95f5b6186533"
      },
      "outputs": [
        {
          "output_type": "stream",
          "name": "stdout",
          "text": [
            "(11, 1)\n"
          ]
        }
      ],
      "source": [
        "new_weights, losses = model.fit(X_train, y_train)"
      ]
    },
    {
      "cell_type": "code",
      "execution_count": null,
      "metadata": {
        "id": "ysSaLU2OiQ3i",
        "colab": {
          "base_uri": "https://localhost:8080/"
        },
        "outputId": "226020bf-4486-42d5-87ef-87d9779f19fb"
      },
      "outputs": [
        {
          "output_type": "execute_result",
          "data": {
            "text/plain": [
              "array([[-7.3381641 ],\n",
              "       [ 5.72872814],\n",
              "       [ 8.0655508 ],\n",
              "       [ 2.10211081],\n",
              "       [ 9.81395871],\n",
              "       [-0.20022784],\n",
              "       [-3.03721443],\n",
              "       [-3.63622918],\n",
              "       [-2.02963057],\n",
              "       [-1.98878967],\n",
              "       [-2.62209101]])"
            ]
          },
          "metadata": {},
          "execution_count": 21
        }
      ],
      "source": [
        "new_weights"
      ]
    },
    {
      "cell_type": "code",
      "execution_count": null,
      "metadata": {
        "id": "WpuU-YJvoQQ-",
        "colab": {
          "base_uri": "https://localhost:8080/"
        },
        "outputId": "2353edd7-0fb7-405a-f334-ecadb5fe7845"
      },
      "outputs": [
        {
          "output_type": "stream",
          "name": "stdout",
          "text": [
            "0.01\n",
            "100000\n"
          ]
        }
      ],
      "source": [
        "print(model.learning_rate)\n",
        "print(model.iterations)\n"
      ]
    },
    {
      "cell_type": "code",
      "execution_count": null,
      "metadata": {
        "id": "oDmbJMw8l2Vv",
        "colab": {
          "base_uri": "https://localhost:8080/"
        },
        "outputId": "871793dd-9c91-41e9-a88b-f1e41a79a608"
      },
      "outputs": [
        {
          "output_type": "execute_result",
          "data": {
            "text/plain": [
              "100000"
            ]
          },
          "metadata": {},
          "execution_count": 23
        }
      ],
      "source": [
        "len(losses)"
      ]
    },
    {
      "cell_type": "code",
      "execution_count": null,
      "metadata": {
        "id": "WRd6k_dclzjy",
        "colab": {
          "base_uri": "https://localhost:8080/"
        },
        "outputId": "f09d33a3-004c-44d3-e40b-d7ff1a9098bc"
      },
      "outputs": [
        {
          "output_type": "execute_result",
          "data": {
            "text/plain": [
              "(11, 1)"
            ]
          },
          "metadata": {},
          "execution_count": 24
        }
      ],
      "source": [
        "new_weights.shape"
      ]
    },
    {
      "cell_type": "code",
      "execution_count": null,
      "metadata": {
        "id": "mvhunh1Sq-tP"
      },
      "outputs": [],
      "source": [
        "y_pred = model.predict(X_test, new_weights)"
      ]
    },
    {
      "cell_type": "markdown",
      "metadata": {
        "id": "fm58H1qvxmW9"
      },
      "source": [
        ""
      ]
    },
    {
      "cell_type": "code",
      "execution_count": null,
      "metadata": {
        "id": "3-5kIz3csr-v"
      },
      "outputs": [],
      "source": [
        "acc = model.accuracy(y_test, y_pred)"
      ]
    },
    {
      "cell_type": "code",
      "execution_count": null,
      "metadata": {
        "id": "PxaNnFuDsv3W",
        "colab": {
          "base_uri": "https://localhost:8080/"
        },
        "outputId": "64a7637a-58eb-4480-ffcf-1b9ac613eb72"
      },
      "outputs": [
        {
          "output_type": "stream",
          "name": "stdout",
          "text": [
            "0.9393939393939394\n"
          ]
        }
      ],
      "source": [
        "print(acc)"
      ]
    },
    {
      "cell_type": "code",
      "execution_count": null,
      "metadata": {
        "id": "Tu4BcLgCtpAN",
        "colab": {
          "base_uri": "https://localhost:8080/"
        },
        "outputId": "feeccdc2-9296-49a5-c348-dd9717917b34"
      },
      "outputs": [
        {
          "output_type": "execute_result",
          "data": {
            "text/plain": [
              "array([1, 0, 1, 0, 1, 1, 1, 1, 0, 0, 0, 1, 0, 0, 0, 1, 0, 0, 1, 1, 0, 0,\n",
              "       1, 1, 1, 1, 0, 0, 1, 1, 0, 0, 1, 1, 1, 0, 1, 0, 0, 1, 0, 1, 1, 0,\n",
              "       0, 1, 0, 0, 1, 1, 0, 0, 1, 0, 0, 1, 1, 0, 1, 1, 1, 0, 1, 0, 1, 1])"
            ]
          },
          "metadata": {},
          "execution_count": 28
        }
      ],
      "source": [
        "y_pred"
      ]
    },
    {
      "cell_type": "code",
      "execution_count": null,
      "metadata": {
        "id": "WgDc5EwZ3y0v",
        "colab": {
          "base_uri": "https://localhost:8080/"
        },
        "outputId": "78fe820d-5047-419c-8cc3-0727320c6180"
      },
      "outputs": [
        {
          "output_type": "execute_result",
          "data": {
            "text/plain": [
              "array([1, 0, 1, 0, 1, 1, 1, 1, 0, 0, 0, 1, 0, 0, 1, 1, 0, 0, 1, 1, 0, 0,\n",
              "       1, 1, 1, 1, 0, 0, 0, 1, 0, 0, 1, 1, 1, 0, 1, 1, 0, 1, 0, 1, 1, 0,\n",
              "       0, 1, 0, 0, 1, 1, 0, 0, 1, 0, 0, 1, 0, 0, 1, 1, 1, 0, 1, 0, 1, 1],\n",
              "      dtype=int8)"
            ]
          },
          "metadata": {},
          "execution_count": 29
        }
      ],
      "source": [
        "y_test"
      ]
    },
    {
      "cell_type": "code",
      "execution_count": null,
      "metadata": {
        "id": "7MuGyRr530fD",
        "colab": {
          "base_uri": "https://localhost:8080/",
          "height": 297
        },
        "outputId": "e81393fe-cb21-485b-d606-9f2722b52d03"
      },
      "outputs": [
        {
          "output_type": "execute_result",
          "data": {
            "text/plain": [
              "Text(0, 0.5, 'Loss')"
            ]
          },
          "metadata": {},
          "execution_count": 30
        },
        {
          "output_type": "display_data",
          "data": {
            "text/plain": [
              "<Figure size 432x288 with 1 Axes>"
            ],
            "image/png": "[encoded data removed]"
          },
          "metadata": {
            "needs_background": "light"
          }
        }
      ],
      "source": [
        "import matplotlib.pyplot as plt\n",
        "\n",
        "plt.plot(losses)\n",
        "plt.xlabel(\"Iterations\")\n",
        "plt.ylabel(\"Loss\")"
      ]
    },
    {
      "cell_type": "code",
      "execution_count": null,
      "metadata": {
        "id": "-pVS8Kroo3C5"
      },
      "outputs": [],
      "source": [
        ""
      ]
    }
  ],
  "metadata": {
    "colab": {
      "collapsed_sections": [],
      "name": "Copy of krunalna_skumar39_assignment2_part2.ipynb",
      "provenance": []
    },
    "kernelspec": {
      "display_name": "Python 3",
      "name": "python3"
    },
    "language_info": {
      "name": "python"
    }
  },
  "nbformat": 4,
  "nbformat_minor": 0
}